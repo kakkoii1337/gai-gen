{
 "cells": [
  {
   "cell_type": "markdown",
   "metadata": {},
   "source": [
    "# Gai/Gen: Retrieval-Augmented-Generation (RAG)\n",
    "\n",
    "## 1. Note\n",
    "\n",
    "The following examples has been tested on the following environment:\n",
    "\n",
    "-   NVidia GeForce RTX 2060 6GB\n",
    "-   Windows 11 + WSL2\n",
    "-   Ubuntu 22.04\n",
    "-   Python 3.10\n",
    "-   CUDA Toolkit 11.8\n",
    "\n",
    "## 2. Create Virtual Environment and Install Dependencies\n",
    "\n",
    "We will create a seperate virtual environment for this to avoid conflicting dependencies that each underlying model requires.\n",
    "\n",
    "```sh\n",
    "sudo apt update -y && sudo apt install ffmpeg git git-lfs -y\n",
    "conda create -n RAG python=3.10.10 -y\n",
    "conda activate RAG\n",
    "pip install -e \".[RAG]\"\n",
    "```"
   ]
  },
  {
   "cell_type": "markdown",
   "metadata": {},
   "source": [
    "## 3. Install Model"
   ]
  },
  {
   "cell_type": "code",
   "execution_count": null,
   "metadata": {},
   "outputs": [],
   "source": [
    "%%bash\n",
    "huggingface-cli download hkunlp/instructor-large \\\n",
    "        --local-dir ~/gai/models/instructor-large \\\n",
    "        --local-dir-use-symlinks False"
   ]
  },
  {
   "cell_type": "markdown",
   "metadata": {},
   "source": [
    "## 4. Example"
   ]
  },
  {
   "cell_type": "code",
   "execution_count": 8,
   "metadata": {},
   "outputs": [
    {
     "data": {
      "text/plain": [
       "[]"
      ]
     },
     "execution_count": 8,
     "metadata": {},
     "output_type": "execute_result"
    }
   ],
   "source": [
    "from gai.gen.rag import RAG\n",
    "RAG.delete_collection(\"demo\")\n",
    "RAG.list_collections()"
   ]
  },
  {
   "cell_type": "code",
   "execution_count": 9,
   "metadata": {},
   "outputs": [
    {
     "data": {
      "text/plain": [
       "[Collection(name=demo)]"
      ]
     },
     "execution_count": 9,
     "metadata": {},
     "output_type": "execute_result"
    }
   ],
   "source": [
    "from gai.gen.rag import RAG\n",
    "RAG.get_collection(\"demo\")\n",
    "RAG.list_collections()"
   ]
  },
  {
   "cell_type": "code",
   "execution_count": 10,
   "metadata": {},
   "outputs": [
    {
     "name": "stderr",
     "output_type": "stream",
     "text": [
      "/home/roylai/miniconda/envs/RAG/lib/python3.10/site-packages/InstructorEmbedding/instructor.py:7: TqdmWarning: IProgress not found. Please update jupyter and ipywidgets. See https://ipywidgets.readthedocs.io/en/stable/user_install.html\n",
      "  from tqdm.autonotebook import trange\n"
     ]
    },
    {
     "name": "stdout",
     "output_type": "stream",
     "text": [
      "load INSTRUCTOR_Transformer\n",
      "max_seq_length  512\n"
     ]
    },
    {
     "name": "stderr",
     "output_type": "stream",
     "text": [
      "100%|██████████| 29/29 [00:04<00:00,  5.98it/s]\n"
     ]
    }
   ],
   "source": [
    "# Index\n",
    "from gai.gen.Gaigen import Gaigen\n",
    "gen = Gaigen.GetInstance().load('rag')\n",
    "with open(\"../tests/gen/rag/pm_long_speech_2023.txt\") as f:\n",
    "    text = f.read()\n",
    "    gen.index(collection_name=\"demo\",text=text, path_or_url=\"2023 National Day Speech\", metadata={\"source\":\"https://www.pmo.gov.sg/Newsroom/2023-National-Day-Rally-Speech\"})"
   ]
  },
  {
   "cell_type": "code",
   "execution_count": 11,
   "metadata": {},
   "outputs": [
    {
     "name": "stdout",
     "output_type": "stream",
     "text": [
      "                                           documents  \\\n",
      "0  The seniors looked happy, but some of them wer...   \n",
      "1  What I found most encouraging was that many se...   \n",
      "2  SECTION 3: AGEING\\nI want to talk about two ot...   \n",
      "\n",
      "                                           metadatas  distances  \\\n",
      "0  {'chunks_dir': '/home/roylai/gai/chunks/2023 N...   0.242035   \n",
      "1  {'chunks_dir': '/home/roylai/gai/chunks/2023 N...   0.247290   \n",
      "2  {'chunks_dir': '/home/roylai/gai/chunks/2023 N...   0.254954   \n",
      "\n",
      "                                                 ids  \n",
      "0  94f0f70f5a0ec555696a1bac479d55533734d89fcfa491...  \n",
      "1  d040a9e16a818fd6598483721a043a3a22bf9dca24bf35...  \n",
      "2  f5b54668d2357185abda3d81ceda8d1218b230100a483e...  \n"
     ]
    }
   ],
   "source": [
    "from gai.gen.Gaigen import Gaigen\n",
    "gen = Gaigen.GetInstance().load('rag')\n",
    "result=gen.retrieve(collection_name=\"demo\",query_texts=\"Who are the young seniors?\")\n",
    "print(result)\n"
   ]
  }
 ],
 "metadata": {
  "kernelspec": {
   "display_name": "gai-rag",
   "language": "python",
   "name": "python3"
  },
  "language_info": {
   "codemirror_mode": {
    "name": "ipython",
    "version": 3
   },
   "file_extension": ".py",
   "mimetype": "text/x-python",
   "name": "python",
   "nbconvert_exporter": "python",
   "pygments_lexer": "ipython3",
   "version": "3.10.10"
  }
 },
 "nbformat": 4,
 "nbformat_minor": 2
}
