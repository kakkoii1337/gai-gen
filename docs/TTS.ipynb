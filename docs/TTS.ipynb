{
 "cells": [
  {
   "cell_type": "markdown",
   "metadata": {},
   "source": [
    "# Gai/Gen: Text-to-Speech (TTS)\n",
    "\n",
    "## 1. Note\n",
    "\n",
    "The following examples has been tested on the following environment:\n",
    "\n",
    "-   NVidia GeForce RTX 2060 6GB\n",
    "-   Windows 11 + WSL2\n",
    "-   Ubuntu 22.04\n",
    "-   Python 3.10\n",
    "-   CUDA Toolkit 11.8\n",
    "-   openai 1.6.1\n",
    "-   TTS 0.22.0\n",
    "-   deepspeed 0.12.6\n",
    "\n",
    "\n",
    "## 2. Create Virtual Environment and Install Dependencies\n",
    "\n",
    "We will create a seperate virtual environment for this to avoid conflicting dependencies that each underlying model requires.\n",
    "\n",
    "```sh\n",
    "sudo apt update -y && sudo apt install ffmpeg git git-lfs -y\n",
    "conda create -n TTS python=3.10.10 -y\n",
    "conda activate TTS\n",
    "pip install gai-gen[TTS]\n",
    "```\n",
    "\n",
    "## 3. Examples"
   ]
  },
  {
   "cell_type": "code",
   "execution_count": null,
   "metadata": {},
   "outputs": [],
   "source": [
    "## 3.1 OpenAI Text-to-Speech\n",
    "\n",
    "print(\"GENERATING:\")\n",
    "from gai.gen import Gaigen\n",
    "gen = Gaigen.GetInstance().load('openai-tts-1')\n",
    "response = gen.create(\n",
    "  voice=\"alloy\",\n",
    "  input=\"The definition of insanity is doing the same thing over and over and expecting different results.\"\n",
    ")\n",
    "from IPython.display import Audio\n",
    "Audio(response, rate=24000)"
   ]
  },
  {
   "cell_type": "markdown",
   "metadata": {},
   "source": [
    "The following demo is uses Coqui AI's xTTS model. Create and run the following script `xtts_download.py` to download the model:\n",
    "\n",
    "```python\n",
    "# xtts_download.py\n",
    "import os\n",
    "os.environ[\"COQUI_TOS_AGREED\"]=\"1\"\n",
    "\n",
    "from TTS.utils.manage import ModelManager\n",
    "print(\"Downloading...\")\n",
    "mm =  ModelManager(output_prefix=\"~/gai/models/tts\")\n",
    "model_name=\"tts_models/multilingual/multi-dataset/xtts_v2\"\n",
    "mm.download_model(model_name)\n",
    "print(\"Downloaded\")\n",
    "```\n",
    "\n",
    "Take note that loading the model for the first time will take a while for deepspeed to compile the model."
   ]
  },
  {
   "cell_type": "code",
   "execution_count": null,
   "metadata": {},
   "outputs": [],
   "source": [
    "## 3.2 Coqui xTTS Text-to-Speech\n",
    "\n",
    "print(\"GENERATING:\")\n",
    "from gai.gen import Gaigen\n",
    "gen = Gaigen.GetInstance().load('xtts-2')\n",
    "response = gen.create(\n",
    "  voice=\"Vjollca Johnnie\",\n",
    "  input=\"The definition of insanity is doing the same thing over and over and expecting different results.\"\n",
    ")\n",
    "from IPython.display import Audio\n",
    "Audio(response, rate=24000)"
   ]
  },
  {
   "cell_type": "markdown",
   "metadata": {},
   "source": [
    "## Running as a Service\n",
    "\n",
    "#### Step 1: Start Docker container\n",
    "\n",
    "```bash\n",
    "docker run -d \\\n",
    "    --name gai-tts \\\n",
    "    -p 12031:12031 \\\n",
    "    --gpus all \\\n",
    "    -v ~/gai/models:/app/models \\\n",
    "    kakkoii1337/gai-tts:latest\n",
    "```\n",
    "\n",
    "#### Step 2: Wait for model to load\n",
    "\n",
    "```bash\n",
    "docker logs gai-tts\n",
    "```\n",
    "\n",
    "When the loading is completed, the logs should show this:\n",
    "\n",
    "```bash\n",
    "INFO:     Started server process [1]\n",
    "INFO:     Waiting for application startup.\n",
    "INFO:     Application startup complete.\n",
    "INFO:     Uvicorn running on http://0.0.0.0:12031 (Press CTRL+C to quit)\n",
    "```\n",
    "\n",
    "#### Step 3: Test\n"
   ]
  },
  {
   "cell_type": "code",
   "execution_count": null,
   "metadata": {},
   "outputs": [],
   "source": [
    "%%bash\n",
    "curl -X POST http://localhost:12031/gen/v1/audio/speech \\\n",
    "    -H \"Content-Type: application/json\" \\\n",
    "    -N \\\n",
    "    -d \"{\\\"model\\\":\\\"xtts-2\\\",\\\"input\\\":\\\"I think there is no direct bus. You can take 185 and change to MRT at buona vista. 185 should be arriving in 5 minutes.\\\", \\\"stream\\\":true}\" | ffplay -autoexit -nodisp -hide_banner -\n"
   ]
  }
 ],
 "metadata": {
  "kernelspec": {
   "display_name": "TTT",
   "language": "python",
   "name": "python3"
  },
  "language_info": {
   "codemirror_mode": {
    "name": "ipython",
    "version": 3
   },
   "file_extension": ".py",
   "mimetype": "text/x-python",
   "name": "python",
   "nbconvert_exporter": "python",
   "pygments_lexer": "ipython3",
   "version": "3.10.10"
  }
 },
 "nbformat": 4,
 "nbformat_minor": 2
}
